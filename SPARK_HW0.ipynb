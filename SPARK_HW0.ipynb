{
  "nbformat": 4,
  "nbformat_minor": 0,
  "metadata": {
    "colab": {
      "name": "SPARK- HW0.ipynb",
      "provenance": [],
      "toc_visible": true,
      "mount_file_id": "1eHAzDSuu4gJ6p9mEYEYq6WhYEQw76qYx",
      "authorship_tag": "ABX9TyN813rGx3or+DznUiurMwbj",
      "include_colab_link": true
    },
    "kernelspec": {
      "name": "python3",
      "display_name": "Python 3"
    },
    "language_info": {
      "name": "python"
    }
  },
  "cells": [
    {
      "cell_type": "markdown",
      "metadata": {
        "id": "view-in-github",
        "colab_type": "text"
      },
      "source": [
        "<a href=\"https://colab.research.google.com/github/sararanjbarz/WORD-COUNT---Spark-/blob/main/SPARK_HW0.ipynb\" target=\"_parent\"><img src=\"https://colab.research.google.com/assets/colab-badge.svg\" alt=\"Open In Colab\"/></a>"
      ]
    },
    {
      "cell_type": "markdown",
      "source": [
        "# Getting auxiliary packages"
      ],
      "metadata": {
        "id": "Z0dqwZkFq2T_"
      }
    },
    {
      "cell_type": "code",
      "execution_count": 1,
      "metadata": {
        "id": "IHIwJ76AXz11"
      },
      "outputs": [],
      "source": [
        "!apt-get install openjdk-8-jdk-headless -qq > /dev/null"
      ]
    },
    {
      "cell_type": "markdown",
      "source": [
        "# Downloading Spark"
      ],
      "metadata": {
        "id": "VkepAjU9rkmE"
      }
    },
    {
      "cell_type": "code",
      "source": [
        "!wget -q https://downloads.apache.org/spark/spark-3.1.2/spark-3.1.2-bin-hadoop2.7.tgz"
      ],
      "metadata": {
        "id": "bG7QL8DYYYWH"
      },
      "execution_count": 2,
      "outputs": []
    },
    {
      "cell_type": "markdown",
      "source": [
        "# Extracting file"
      ],
      "metadata": {
        "id": "A6zv4qc9rry7"
      }
    },
    {
      "cell_type": "code",
      "source": [
        "!tar xf spark-3.1.2-bin-hadoop2.7.tgz\n"
      ],
      "metadata": {
        "id": "OVqtwjvGYeiQ"
      },
      "execution_count": 3,
      "outputs": []
    },
    {
      "cell_type": "code",
      "source": [
        "!tar xf spark-3.1.2-bin-hadoop2.7.tgz\n"
      ],
      "metadata": {
        "id": "DyPN0H-nYj20"
      },
      "execution_count": 4,
      "outputs": []
    },
    {
      "cell_type": "markdown",
      "source": [
        "# Instaling Spark"
      ],
      "metadata": {
        "id": "Gze-y9vpqsgU"
      }
    },
    {
      "cell_type": "code",
      "source": [
        "!pip install -q findspark"
      ],
      "metadata": {
        "id": "QzzBnAHHYopR"
      },
      "execution_count": 5,
      "outputs": []
    },
    {
      "cell_type": "markdown",
      "source": [
        "# Setting Java & Spark"
      ],
      "metadata": {
        "id": "5HZ8SSqSr7sT"
      }
    },
    {
      "cell_type": "code",
      "source": [
        "import os\n",
        "os.environ[\"JAVA_HOME\"] = \"/usr/lib/jvm/java-8-openjdk-amd64\"\n",
        "os.environ[\"SPARK_HOME\"] = \"/content/spark-3.1.2-bin-hadoop2.7\""
      ],
      "metadata": {
        "id": "-ytobWQlZOrF"
      },
      "execution_count": 6,
      "outputs": []
    },
    {
      "cell_type": "code",
      "source": [
        "import findspark\n",
        "findspark.init()"
      ],
      "metadata": {
        "id": "nC1JjN59ZwNp"
      },
      "execution_count": 7,
      "outputs": []
    },
    {
      "cell_type": "code",
      "source": [
        "from pyspark.sql import SparkSession\n",
        "spark = SparkSession.builder.master(\"local\").appName(\"Colab\")\\\n",
        "    .config('spark.ui.port', '4050').getOrCreate()"
      ],
      "metadata": {
        "id": "z4PavD22Z4lL"
      },
      "execution_count": 8,
      "outputs": []
    },
    {
      "cell_type": "markdown",
      "source": [
        "# Running Spark"
      ],
      "metadata": {
        "id": "3_tN7WGgse5N"
      }
    },
    {
      "cell_type": "code",
      "source": [
        "spark"
      ],
      "metadata": {
        "colab": {
          "base_uri": "https://localhost:8080/",
          "height": 222
        },
        "id": "PYReapFxaFf7",
        "outputId": "ce9145ce-9d82-4e74-9bda-4fc605c5ba19"
      },
      "execution_count": 9,
      "outputs": [
        {
          "output_type": "execute_result",
          "data": {
            "text/html": [
              "\n",
              "            <div>\n",
              "                <p><b>SparkSession - in-memory</b></p>\n",
              "                \n",
              "        <div>\n",
              "            <p><b>SparkContext</b></p>\n",
              "\n",
              "            <p><a href=\"http://8c15c3227842:4050\">Spark UI</a></p>\n",
              "\n",
              "            <dl>\n",
              "              <dt>Version</dt>\n",
              "                <dd><code>v3.1.2</code></dd>\n",
              "              <dt>Master</dt>\n",
              "                <dd><code>local</code></dd>\n",
              "              <dt>AppName</dt>\n",
              "                <dd><code>Colab</code></dd>\n",
              "            </dl>\n",
              "        </div>\n",
              "        \n",
              "            </div>\n",
              "        "
            ],
            "text/plain": [
              "<pyspark.sql.session.SparkSession at 0x7fc355bd6050>"
            ]
          },
          "metadata": {},
          "execution_count": 9
        }
      ]
    },
    {
      "cell_type": "code",
      "source": [
        "from pyspark import SparkContext, SparkConf"
      ],
      "metadata": {
        "id": "0fHHpoi7aTIi"
      },
      "execution_count": 10,
      "outputs": []
    },
    {
      "cell_type": "markdown",
      "source": [
        "# Making Object and using getorgreat for preventing error if there was any object"
      ],
      "metadata": {
        "id": "udL_jiIIs-L0"
      }
    },
    {
      "cell_type": "code",
      "source": [
        "sc = SparkContext.getOrCreate();"
      ],
      "metadata": {
        "id": "Q4h8wiGTcDK7"
      },
      "execution_count": 11,
      "outputs": []
    },
    {
      "cell_type": "markdown",
      "source": [
        "# Getting text file from google drive"
      ],
      "metadata": {
        "id": "HI6R8NentYqF"
      }
    },
    {
      "cell_type": "code",
      "source": [
        "path = '/content/drive/MyDrive/Uni projects/Spark/news.txt'\n",
        "text = sc.textFile(path)"
      ],
      "metadata": {
        "id": "S8bEWn52cJNk"
      },
      "execution_count": 12,
      "outputs": []
    },
    {
      "cell_type": "markdown",
      "source": [
        "# Step 1 - Reading text by collect"
      ],
      "metadata": {
        "id": "gHZp1IHstgZD"
      }
    },
    {
      "cell_type": "code",
      "source": [
        "text.collect()"
      ],
      "metadata": {
        "colab": {
          "base_uri": "https://localhost:8080/"
        },
        "id": "udAk4HQpcssd",
        "outputId": "f80afade-5dee-45e1-8382-dcdfd95f595d"
      },
      "execution_count": 13,
      "outputs": [
        {
          "output_type": "execute_result",
          "data": {
            "text/plain": [
              "['‘Only two pages’ of Luxembourg PM’s university thesis were not plagiarised',\n",
              " '',\n",
              " 'Luxembourg’s prime minister, Xavier Bettel, has admitted his university thesis “should have been done differently” after a media investigation concluded that only two of the work’s 56 pages had not been plagiarised.',\n",
              " 'A local news outlet, reporter.lu, said on Wednesday that Bettel had lifted three-quarters of the text, describing it as “an impressive hodgepodge of copied passages that does not meet the customary requirements of academia”.',\n",
              " 'Bettel, 48, who has been prime minister since 2013, said the thesis was more than 20 years old and written with a clear conscience. But “from today’s standpoint, it could have – yes, maybe should have – been done differently”, he said.',\n",
              " 'Bettel said he had full confidence in the University of Lorraine in eastern France to assess whether the work met its standards at the time, and that he would “naturally accept” its decision, even if it meant his qualification was withdrawn.',\n",
              " 'The thesis was written as part of an advanced diploma – roughly the equivalent of a master’s degree – in public law and political science that Bettel completed at what was then known as the University of Nancy in the same year he entered parliament.',\n",
              " 'Reporter.lu said the theis, called Toward a Possible Reform of Voting Systems in the European Parliament, contained lengthy passages of text that had been lifted unattributed from two books, four websites and a press article.',\n",
              " 'It said only “a few paragraphs in the introduction” and “an equally short conclusion” had not been copied wholesale, amounting to an exercise in plagiarism “unparalleled in its scope” – a verdict that it said had been confirmed by independent experts.',\n",
              " 'Fully 20 pages of the thesis were lifted straight from the website of the European parliament in defiance of a clear copyright warning, it said, with nine more taken from a 1998 report by a Greek MEP and further passages copied from a standard introductory textbook on the EU’s institutions.',\n",
              " '“The plagiarism I found is very problematic because long passages were transferred almost word for word,” Anna-Lena Högenauer, a political science professor at the University of Luxembourg, told the outlet. “You can’t accidentally copy several pages.”',\n",
              " 'Nicolas Sauger, a political scientist at Sciences Po in Paris, said Bettel’s thesis was unoriginal and poorly researched, and the plagiarism “too extensive to be reasonable”. But the prime minister’s former supervisor, Etienne Criqui, said standards were different before the invention of plagiarism-detecting software.',\n",
              " 'The scandal is the latest plagiarism row to hit a high-profile European politician in recent years, with Germany the worst affected. Germany’s family minister Franziska Giffey was forced to step down in May over claims she plagiarised her doctoral thesis.',\n",
              " 'In 2013 Annette Schavan, then the education minister, had to step down after the University of Düsseldorf stripped her of her doctorate, while two years earlier defence minister Karl-Theodor zu Guttenberg resigned for the same reason.']"
            ]
          },
          "metadata": {},
          "execution_count": 13
        }
      ]
    },
    {
      "cell_type": "markdown",
      "source": [
        "#  Step 2 - Spliting each line into its words and showing the first 2 lines "
      ],
      "metadata": {
        "id": "CDuv8yzttpKN"
      }
    },
    {
      "cell_type": "code",
      "source": [
        "text.take(2)"
      ],
      "metadata": {
        "colab": {
          "base_uri": "https://localhost:8080/"
        },
        "id": "wWZo7Xzjcw5k",
        "outputId": "a8ae891a-1e51-4fdd-a358-4a8fb11c22d2"
      },
      "execution_count": 14,
      "outputs": [
        {
          "output_type": "execute_result",
          "data": {
            "text/plain": [
              "['‘Only two pages’ of Luxembourg PM’s university thesis were not plagiarised',\n",
              " '']"
            ]
          },
          "metadata": {},
          "execution_count": 14
        }
      ]
    },
    {
      "cell_type": "markdown",
      "source": [
        "# Step 3 - Using FlatMap"
      ],
      "metadata": {
        "id": "vqAXagyPt9DT"
      }
    },
    {
      "cell_type": "code",
      "source": [
        "flatext = text.flatMap(lambda line: [(word, 1) for word in line.split(' ')])\n",
        "flatext. take(20)"
      ],
      "metadata": {
        "colab": {
          "base_uri": "https://localhost:8080/"
        },
        "id": "25OsiSGieZJU",
        "outputId": "1f6b41bd-ed19-4b92-c3dc-1a86a39c4af8"
      },
      "execution_count": 18,
      "outputs": [
        {
          "output_type": "execute_result",
          "data": {
            "text/plain": [
              "[('‘Only', 1),\n",
              " ('two', 1),\n",
              " ('pages’', 1),\n",
              " ('of', 1),\n",
              " ('Luxembourg', 1),\n",
              " ('PM’s', 1),\n",
              " ('university', 1),\n",
              " ('thesis', 1),\n",
              " ('were', 1),\n",
              " ('not', 1),\n",
              " ('plagiarised', 1),\n",
              " ('', 1),\n",
              " ('Luxembourg’s', 1),\n",
              " ('prime', 1),\n",
              " ('minister,', 1),\n",
              " ('Xavier', 1),\n",
              " ('Bettel,', 1),\n",
              " ('has', 1),\n",
              " ('admitted', 1),\n",
              " ('his', 1)]"
            ]
          },
          "metadata": {},
          "execution_count": 18
        }
      ]
    },
    {
      "cell_type": "markdown",
      "source": [
        "# Step 4 - reducing step 3 results"
      ],
      "metadata": {
        "id": "VuN7CggDwRst"
      }
    },
    {
      "cell_type": "code",
      "source": [
        "reduced_text = flatext.groupByKey().mapValues(len)\n",
        "reduced_text.take(30)"
      ],
      "metadata": {
        "colab": {
          "base_uri": "https://localhost:8080/"
        },
        "id": "vO9iNUbtiFi5",
        "outputId": "06f29077-5380-46cd-af97-a648fa66e994"
      },
      "execution_count": 20,
      "outputs": [
        {
          "output_type": "execute_result",
          "data": {
            "text/plain": [
              "[('‘Only', 1),\n",
              " ('two', 4),\n",
              " ('pages’', 1),\n",
              " ('of', 18),\n",
              " ('Luxembourg', 1),\n",
              " ('PM’s', 1),\n",
              " ('university', 2),\n",
              " ('thesis', 6),\n",
              " ('were', 4),\n",
              " ('not', 4),\n",
              " ('plagiarised', 2),\n",
              " ('', 1),\n",
              " ('Luxembourg’s', 1),\n",
              " ('prime', 3),\n",
              " ('minister,', 2),\n",
              " ('Xavier', 1),\n",
              " ('Bettel,', 2),\n",
              " ('has', 2),\n",
              " ('admitted', 1),\n",
              " ('his', 2),\n",
              " ('“should', 1),\n",
              " ('have', 3),\n",
              " ('been', 7),\n",
              " ('done', 2),\n",
              " ('differently”', 1),\n",
              " ('after', 2),\n",
              " ('a', 13),\n",
              " ('media', 1),\n",
              " ('investigation', 1),\n",
              " ('concluded', 1)]"
            ]
          },
          "metadata": {},
          "execution_count": 20
        }
      ]
    },
    {
      "cell_type": "markdown",
      "source": [
        "# Step 5 -  sorting final result in descending order"
      ],
      "metadata": {
        "id": "7H3As23txGJK"
      }
    },
    {
      "cell_type": "code",
      "source": [
        "sortex = reduced_text.sortBy(lambda a: a[1], ascending=False)\n",
        "sortex.take(30)"
      ],
      "metadata": {
        "colab": {
          "base_uri": "https://localhost:8080/"
        },
        "id": "rm8RBUoIkZk2",
        "outputId": "f7531079-2075-4c1f-dbd2-1b9d2e1f7e1f"
      },
      "execution_count": 21,
      "outputs": [
        {
          "output_type": "execute_result",
          "data": {
            "text/plain": [
              "[('the', 27),\n",
              " ('of', 18),\n",
              " ('a', 13),\n",
              " ('in', 12),\n",
              " ('said', 8),\n",
              " ('and', 8),\n",
              " ('been', 7),\n",
              " ('that', 7),\n",
              " ('had', 7),\n",
              " ('thesis', 6),\n",
              " ('was', 6),\n",
              " ('to', 6),\n",
              " ('it', 5),\n",
              " ('–', 5),\n",
              " ('two', 4),\n",
              " ('were', 4),\n",
              " ('not', 4),\n",
              " ('passages', 4),\n",
              " ('he', 4),\n",
              " ('University', 4),\n",
              " ('at', 4),\n",
              " ('from', 4),\n",
              " ('plagiarism', 4),\n",
              " ('prime', 3),\n",
              " ('have', 3),\n",
              " ('Bettel', 3),\n",
              " ('lifted', 3),\n",
              " ('as', 3),\n",
              " ('copied', 3),\n",
              " ('minister', 3)]"
            ]
          },
          "metadata": {},
          "execution_count": 21
        }
      ]
    }
  ]
}